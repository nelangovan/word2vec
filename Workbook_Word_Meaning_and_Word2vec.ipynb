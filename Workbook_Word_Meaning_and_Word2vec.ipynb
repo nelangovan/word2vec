{
  "nbformat": 4,
  "nbformat_minor": 0,
  "metadata": {
    "colab": {
      "name": "Workbook_Word_Meaning_and_Word2vec.ipynb",
      "version": "0.3.2",
      "provenance": [],
      "collapsed_sections": [],
      "include_colab_link": true
    },
    "kernelspec": {
      "name": "python3",
      "display_name": "Python 3"
    },
    "accelerator": "GPU"
  },
  "cells": [
    {
      "cell_type": "markdown",
      "metadata": {
        "id": "view-in-github",
        "colab_type": "text"
      },
      "source": [
        "<a href=\"https://colab.research.google.com/github/nelangovan/word2vec/blob/master/Workbook_Word_Meaning_and_Word2vec.ipynb\" target=\"_parent\"><img src=\"https://colab.research.google.com/assets/colab-badge.svg\" alt=\"Open In Colab\"/></a>"
      ]
    },
    {
      "cell_type": "markdown",
      "metadata": {
        "id": "lyLzwlGH2jQL",
        "colab_type": "text"
      },
      "source": [
        "# Word Meaning and Word2vec"
      ]
    },
    {
      "cell_type": "markdown",
      "metadata": {
        "id": "SkEjc9HI2112",
        "colab_type": "text"
      },
      "source": [
        "This notebook provides a general introduction to natural language processing (NLP) using Word2vec. If you haven't finished the first module, [Deep Learning and Natural Language Processing](https://trailhead.salesforce.com/content/learn/modules/deep-learning-and-natural-language-processing), we highly suggest starting there.\n",
        "\n",
        "Code sections of the notebook appear in grey cells. To run the code in a cell, hover over the brackets in the upper left corner of the cell and click the play button or **Shift+Enter**. You can edit the code in any cell. When running a cell, be sure that you've run all the above cells first to avoid errors.\n",
        "\n",
        "When you have completed the lab, return to Trailhead to enter your answers to the exercises in the quiz section and get points."
      ]
    },
    {
      "cell_type": "code",
      "metadata": {
        "id": "F2K8ruAnolV6",
        "colab_type": "code",
        "outputId": "896a3bac-9e90-4e29-9b30-8f87a6728b0b",
        "colab": {
          "base_uri": "https://localhost:8080/",
          "height": 54
        }
      },
      "source": [
        "import matplotlib.pyplot as plt\n",
        "import random\n",
        "import collections\n",
        "import numpy as np\n",
        "import os\n",
        "import urllib\n",
        "import zipfile\n",
        "import collections\n",
        "import math\n",
        "import os\n",
        "import datetime as dt\n",
        "import string\n",
        "import re\n",
        "import time\n",
        "\n",
        "import numpy as np\n",
        "\n",
        "\n",
        "\n",
        "!pip3 install http://download.pytorch.org/whl/cu80/torch-0.4.0-cp36-cp36m-linux_x86_64.whl\n",
        "import torch\n",
        "import torch.nn as nn\n",
        "import torch.nn.functional as F\n",
        "from torch.nn.modules.module import Module\n",
        "\n",
        "def println(*x):\n",
        "  print(*x)\n",
        "  print()"
      ],
      "execution_count": 0,
      "outputs": [
        {
          "output_type": "stream",
          "text": [
            "Requirement already satisfied: torch==0.4.0 from http://download.pytorch.org/whl/cu80/torch-0.4.0-cp36-cp36m-linux_x86_64.whl in /usr/local/lib/python3.6/dist-packages (0.4.0)\n"
          ],
          "name": "stdout"
        }
      ]
    },
    {
      "cell_type": "markdown",
      "metadata": {
        "id": "eHkArH5tQpqG",
        "colab_type": "text"
      },
      "source": [
        "#  Extract data"
      ]
    },
    {
      "cell_type": "markdown",
      "metadata": {
        "id": "hHs4TXl2TSBp",
        "colab_type": "text"
      },
      "source": [
        "### Data Description\n",
        "We'll be playing around with two datasets to get a sense of how the underlying data affects the training of the word vectors. The first dataset is a large chunk of text that comes from English Wikipedia, and the second is a set of movie reviews from the Stanford Sentiment Treebank (SST)."
      ]
    },
    {
      "cell_type": "markdown",
      "metadata": {
        "id": "2BZNFWQSWR3f",
        "colab_type": "text"
      },
      "source": [
        "### Download the data"
      ]
    },
    {
      "cell_type": "code",
      "metadata": {
        "id": "n-zCk81JRQsf",
        "colab_type": "code",
        "outputId": "81d30eac-aa13-4132-dd4a-5c68c3f7617b",
        "colab": {
          "base_uri": "https://localhost:8080/",
          "height": 51
        }
      },
      "source": [
        "en_wiki_url='http://mattmahoney.net/dc/text8.zip'\n",
        "sst_url = 'https://raw.githubusercontent.com/salesforce/decaNLP/master/local_data/train_fine_sent.csv'\n",
        "\n",
        "def download(url):\n",
        "    filename = os.path.basename(url)\n",
        "    if not os.path.exists(filename):\n",
        "        downloaded_path, _ = urllib.request.urlretrieve(url, filename)\n",
        "    else:\n",
        "      downloaded_path = filename\n",
        "    return downloaded_path\n",
        "\n",
        "en_wiki_path = download(en_wiki_url)\n",
        "sst_path = download(sst_url)\n",
        "\n",
        "print('English Wikipedia (small): ', en_wiki_path)\n",
        "print('Stanford Sentiment Treebank: ', sst_path)"
      ],
      "execution_count": 0,
      "outputs": [
        {
          "output_type": "stream",
          "text": [
            "English Wikipedia (small):  text8.zip\n",
            "Stanford Sentiment Treebank:  train_fine_sent.csv\n"
          ],
          "name": "stdout"
        }
      ]
    },
    {
      "cell_type": "markdown",
      "metadata": {
        "id": "LAgVBn9PWbHp",
        "colab_type": "text"
      },
      "source": [
        "### Extract sentences"
      ]
    },
    {
      "cell_type": "code",
      "metadata": {
        "id": "DKQxsPECSEEc",
        "colab_type": "code",
        "colab": {}
      },
      "source": [
        "en_wiki_sentences, sst_sentences = None, None\n",
        "\n",
        "# The English Wikipedia data has already been cleaned, tokenized, and turned \n",
        "# into a long string of words that can be considered a single sentence\n",
        "with zipfile.ZipFile(en_wiki_path) as f:\n",
        "  words = f.read(f.namelist()[0]).split()\n",
        "  en_wiki_sentences = [[w.decode() for w in words]]\n",
        "\n",
        "# We need to clean the data from the movie reviews\n",
        "def clean(s):\n",
        "    \"\"\"Lower text and remove punctuation, articles and extra whitespace.\"\"\"\n",
        "    def remove_articles(text):\n",
        "        return re.sub(r'\\b(a|an|the)\\b', ' ', text)\n",
        "    def white_space_fix(text):\n",
        "        return ' '.join(text.split())\n",
        "    def remove_punc(text):\n",
        "        exclude = set(string.punctuation)\n",
        "        return ''.join(ch for ch in text if ch not in exclude)\n",
        "    def lower(text):\n",
        "        return text.lower()\n",
        "    return white_space_fix(remove_articles(remove_punc(lower(s))))\n",
        "  \n",
        "  \n",
        "with open(sst_path) as f:\n",
        "  # skip the labels of the csv file\n",
        "  next(f) \n",
        "  # skip the label and the comma, then clean\n",
        "  sst_sentences = [clean(s[2:]).split() for s in f] "
      ],
      "execution_count": 0,
      "outputs": []
    },
    {
      "cell_type": "code",
      "metadata": {
        "id": "461he40Z0QiC",
        "colab_type": "code",
        "outputId": "b4060ed8-94ac-459f-a0c0-3acea78d9607",
        "colab": {
          "base_uri": "https://localhost:8080/",
          "height": 88
        }
      },
      "source": [
        "print('English Wikipedia (small) example: ', en_wiki_sentences[0][:10])\n",
        "print(len(en_wiki_sentences[0]))\n",
        "print('Stanford Sentiment Treebank example: ', sst_sentences[0][:10])"
      ],
      "execution_count": 0,
      "outputs": [
        {
          "output_type": "stream",
          "text": [
            "English Wikipedia (small) example:  ['anarchism', 'originated', 'as', 'a', 'term', 'of', 'abuse', 'first', 'used', 'against']\n",
            "17005207\n",
            "Stanford Sentiment Treebank example:  ['stirring', 'funny', 'and', 'finally', 'transporting', 'reimagining', 'of', 'beauty', 'and', 'beast']\n"
          ],
          "name": "stdout"
        }
      ]
    },
    {
      "cell_type": "markdown",
      "metadata": {
        "id": "_01Se0Zo0P7t",
        "colab_type": "text"
      },
      "source": [
        "# Quiz Question 1:\n",
        "What is the first word in the first example of the English Wikipedia dataset?"
      ]
    },
    {
      "cell_type": "markdown",
      "metadata": {
        "id": "zNgUB0xb0asD",
        "colab_type": "text"
      },
      "source": [
        "# Quiz Question 2:\n",
        "What is the first word in the first example of the SST dataset?"
      ]
    },
    {
      "cell_type": "markdown",
      "metadata": {
        "id": "Mi7mSUutWe2x",
        "colab_type": "text"
      },
      "source": [
        "# Create a vocabulary"
      ]
    },
    {
      "cell_type": "markdown",
      "metadata": {
        "id": "5Juz_MJ_gvu5",
        "colab_type": "text"
      },
      "source": [
        "Now that we've downloaded and extracted our data, we need to construct a vocabulary. This code creates two vocabularies for each dataset—one that contains all the words that appear in the sentences, and one that contains only words that appear five or more times. Then we'll take a look at both the most common words in each vocabulary, as well as what our earlier example sentences look like with uncommon words removed."
      ]
    },
    {
      "cell_type": "code",
      "metadata": {
        "id": "RMmMc52GW1Or",
        "colab_type": "code",
        "outputId": "6b52a922-745e-4a15-c1d3-ed86a7d65ba2",
        "colab": {
          "base_uri": "https://localhost:8080/",
          "height": 136
        }
      },
      "source": [
        "class Vocabulary:\n",
        "  \n",
        "  def __init__(self, sentences):\n",
        "    word_counts = collections.Counter([w for s in sentences for w in s ])\n",
        "    print('Sentences contain ', len(word_counts), ' words.')\n",
        "    common_word_counts = {word: count \n",
        "                          for word, count in word_counts.items() if count >= 5}\n",
        "    print('Sentences contain ', len(common_word_counts), ' words that occur at least 5 times.')\n",
        "                                 \n",
        "    # Replace uncommon words with a special unknown token\n",
        "    unk_token = 'UNK'\n",
        "    unk_token_count = 0\n",
        "    new_sentences = []\n",
        "    for sentence in sentences:\n",
        "      new_sentence = []\n",
        "      for word in sentence:\n",
        "        if word in common_word_counts:\n",
        "          new_sentence.append(word)\n",
        "        else:\n",
        "          unk_token_count += 1\n",
        "          new_sentence.append(unk_token)\n",
        "      new_sentences.append(new_sentence)\n",
        "    self.sentences = new_sentences\n",
        "                            \n",
        "    if unk_token in common_word_counts:\n",
        "      common_word_counts[unk_token] += unk_token_count\n",
        "    else:\n",
        "      common_word_counts[unk_token] = unk_token_count\n",
        "    num_tokens = sum(common_word_counts.values())\n",
        "                                     \n",
        "    self.index_to_word, self.word_to_index, self.word_to_frequency = {}, {}, {}\n",
        "    sorted_common_word_counts = sorted(common_word_counts.items(), \n",
        "                                       key=lambda tup: (-tup[1], tup[0]))\n",
        "\n",
        "    for idx, (word, count) in enumerate(sorted_common_word_counts):\n",
        "      self.index_to_word[idx] = word\n",
        "      self.word_to_index[word] = idx \n",
        "      self.word_to_frequency[word] = count / num_tokens\n",
        "\n",
        "print('Wikipedia (full | uncommon words removed)')\n",
        "en_wiki_vocab = Vocabulary(en_wiki_sentences)\n",
        "print('\\nSST (full | uncommon words removed)')\n",
        "sst_vocab = Vocabulary(sst_sentences)\n",
        "\n",
        "en_wiki_unked = en_wiki_vocab.sentences\n",
        "sst_unked = sst_vocab.sentences"
      ],
      "execution_count": 0,
      "outputs": [
        {
          "output_type": "stream",
          "text": [
            "Wikipedia (full | uncommon words removed)\n",
            "Sentences contain  253854  words.\n",
            "Sentences contain  71290  words that occur at least 5 times.\n",
            "\n",
            "SST (full | uncommon words removed)\n",
            "Sentences contain  17008  words.\n",
            "Sentences contain  3385  words that occur at least 5 times.\n"
          ],
          "name": "stdout"
        }
      ]
    },
    {
      "cell_type": "code",
      "metadata": {
        "id": "r_uBi2eR0rJq",
        "colab_type": "code",
        "outputId": "bca8b301-3971-45ae-f702-c166c19b0c49",
        "colab": {
          "base_uri": "https://localhost:8080/",
          "height": 187
        }
      },
      "source": [
        "print('Wikipedia Vocabulary')\n",
        "print(len(en_wiki_vocab.index_to_word))\n",
        "print(type(en_wiki_vocab.index_to_word))\n",
        "print(list(en_wiki_vocab.index_to_word[i] for i in range(10)))\n",
        "print(en_wiki_unked[0][:10])\n",
        "\n",
        "print('\\nSST Vocabulary')\n",
        "print(len(sst_vocab.index_to_word))\n",
        "print(list(sst_vocab.index_to_word[i] for i in range(10)))\n",
        "print(sst_unked[0][:10])"
      ],
      "execution_count": 0,
      "outputs": [
        {
          "output_type": "stream",
          "text": [
            "Wikipedia Vocabulary\n",
            "71291\n",
            "<class 'dict'>\n",
            "['the', 'of', 'and', 'one', 'in', 'a', 'to', 'UNK', 'zero', 'nine']\n",
            "['anarchism', 'originated', 'as', 'a', 'term', 'of', 'abuse', 'first', 'used', 'against']\n",
            "\n",
            "SST Vocabulary\n",
            "3386\n",
            "['UNK', 'and', 'of', 'to', 'is', 'in', 'that', 'its', 'it', 'as']\n",
            "['stirring', 'funny', 'and', 'finally', 'UNK', 'UNK', 'of', 'beauty', 'and', 'beast']\n"
          ],
          "name": "stdout"
        }
      ]
    },
    {
      "cell_type": "markdown",
      "metadata": {
        "id": "P5RWUpbu0qr3",
        "colab_type": "text"
      },
      "source": [
        "# Quiz Question 3:\n",
        "What is the most common word in the English Wikipedia vocabulary constructed above? "
      ]
    },
    {
      "cell_type": "markdown",
      "metadata": {
        "id": "Pj2BRyhv0078",
        "colab_type": "text"
      },
      "source": [
        "# Quiz Question 4:\n",
        "Which words were replaced by the UNK token in the first SST sentence?"
      ]
    },
    {
      "cell_type": "markdown",
      "metadata": {
        "id": "HcthE-YKeuN_",
        "colab_type": "text"
      },
      "source": [
        "# Drop words based on frequency\n",
        "\n",
        "The most frequent words usually provide less information. For\n",
        "example, nearly every word co-occurs frequently with “the”. \n",
        "For this reason, we discard words with a probability related to its frequency and a threshold typically set to 10e-5."
      ]
    },
    {
      "cell_type": "code",
      "metadata": {
        "id": "gTZdQEaAexan",
        "colab_type": "code",
        "colab": {}
      },
      "source": [
        "def drop_words(sentences, vocabulary, threshold=10e-5):\n",
        "  new_sentences = []\n",
        "  for sentence in sentences:\n",
        "    new_sentence = []\n",
        "    for word in sentence:\n",
        "      word_frequency = vocabulary.word_to_frequency[word]\n",
        "      discard_probability = 1 - np.sqrt(threshold / word_frequency)\n",
        "      if random.random() > discard_probability:\n",
        "        new_sentence.append(word)\n",
        "    if len(new_sentence) > 0:\n",
        "        new_sentences.append(new_sentence)\n",
        "  return new_sentences\n",
        "\n",
        "random.seed(123)\n",
        "\n",
        "en_wiki_dropped = drop_words(en_wiki_unked, en_wiki_vocab)\n",
        "sst_dropped = drop_words(sst_unked, sst_vocab)"
      ],
      "execution_count": 0,
      "outputs": []
    },
    {
      "cell_type": "code",
      "metadata": {
        "id": "In8nLIpm2tEu",
        "colab_type": "code",
        "outputId": "740590d9-8564-4cb9-c066-96e9bbd95485",
        "colab": {
          "base_uri": "https://localhost:8080/",
          "height": 102
        }
      },
      "source": [
        "print('Wikipedia vocabulary with dropped words')\n",
        "print(en_wiki_dropped[0][:10])\n",
        "\n",
        "print('\\nSST vocabulary with dropped words')\n",
        "print(sst_dropped[0][:10])"
      ],
      "execution_count": 0,
      "outputs": [
        {
          "output_type": "stream",
          "text": [
            "Wikipedia vocabulary with dropped words\n",
            "['anarchism', 'originated', 'term', 'abuse', 'used', 'working', 'radicals', 'diggers', 'revolution', 'sans']\n",
            "\n",
            "SST vocabulary with dropped words\n",
            "['stirring', 'finally', 'beauty', 'beast']\n"
          ],
          "name": "stdout"
        }
      ]
    },
    {
      "cell_type": "markdown",
      "metadata": {
        "id": "9YROkeYM1X1v",
        "colab_type": "text"
      },
      "source": [
        "# Quiz Question 5:\n",
        "What was the first word dropped from the English WIkipedia example?"
      ]
    },
    {
      "cell_type": "markdown",
      "metadata": {
        "id": "jc8WQNjf1efT",
        "colab_type": "text"
      },
      "source": [
        "# Quiz Question 6:\n",
        "What was the first word dropped from the SST example?"
      ]
    },
    {
      "cell_type": "markdown",
      "metadata": {
        "id": "AjYYJ7ZuqNWv",
        "colab_type": "text"
      },
      "source": [
        "# Hands-on: Numericalize the data"
      ]
    },
    {
      "cell_type": "markdown",
      "metadata": {
        "id": "JO2o8Bpwn_A8",
        "colab_type": "text"
      },
      "source": [
        "It's your turn to write some code! Implement the ```numericalize``` method. This method takes in a sentence and a vocabulary and returns a list containing the indices of each word in the sentence, in the same order, according to the vocabulary."
      ]
    },
    {
      "cell_type": "code",
      "metadata": {
        "id": "UZGqiYplqPYy",
        "colab_type": "code",
        "colab": {}
      },
      "source": [
        "def numericalize(sentence, vocabulary):\n",
        "  numericalized = []\n",
        "  for s in sentence:\n",
        "    if s in vocabulary.word_to_index.keys():\n",
        "      numericalized.append(vocabulary.word_to_index[s])\n",
        "  return numericalized"
      ],
      "execution_count": 0,
      "outputs": []
    },
    {
      "cell_type": "code",
      "metadata": {
        "id": "MVvMkDR2OEo5",
        "colab_type": "code",
        "colab": {}
      },
      "source": [
        "en_wiki_numericalized = [numericalize(s, en_wiki_vocab) for s in en_wiki_dropped]\n",
        "sst_numericalized = [numericalize(s, sst_vocab) for s in sst_dropped]\n",
        "#en_wiki_numericalized = np.array(en_wiki_numericalized[0])"
      ],
      "execution_count": 0,
      "outputs": []
    },
    {
      "cell_type": "code",
      "metadata": {
        "id": "Tt74HJIfOF6d",
        "colab_type": "code",
        "outputId": "c1a429b7-ef3d-4001-c4f0-53ade16789aa",
        "colab": {
          "base_uri": "https://localhost:8080/",
          "height": 85
        }
      },
      "source": [
        "print(en_wiki_numericalized[0][:10])\n",
        "print(sst_numericalized[0][:10])\n",
        "print(len(en_wiki_numericalized))\n",
        "print(len(sst_numericalized))\n"
      ],
      "execution_count": 0,
      "outputs": [
        {
          "output_type": "stream",
          "text": [
            "[5234, 3084, 195, 3134, 59, 742, 10620, 27498, 855, 15178]\n",
            "[1647, 513, 658, 2117]\n",
            "1\n",
            "8343\n"
          ],
          "name": "stdout"
        }
      ]
    },
    {
      "cell_type": "markdown",
      "metadata": {
        "id": "EKjYtbgp2KZP",
        "colab_type": "text"
      },
      "source": [
        "# Quiz Question 7:\n",
        "What is the first index in the English Wikipedia example after numericalization?"
      ]
    },
    {
      "cell_type": "markdown",
      "metadata": {
        "id": "MqTi4hozv8Ed",
        "colab_type": "text"
      },
      "source": [
        "# Word2Vec Variations\n",
        "There are four variations of training Word2Vec.\n",
        "\n",
        "Your Word2Vec model can either be skip-gram (nSG) or continuous bag-of-words (nCBOW) where n represents the wondow size.\n",
        "It can also be trained with a full softmax (FS) or with k-negative sampling (kNS). The difference between these variants really comes down to how training examples are constructed.\n",
        "\n",
        "In order to construct a training example, we:\n",
        "\n",
        "\n",
        "1. Choose a random sentence from the dataset.\n",
        "2. Choose a random word in the sentence  and consider the context window to be the word along with up to n-1 words to its right. If the context window has length less than or equal to n//2, return to Step 1.\n",
        "3. Let center_word be the word at the middle of the context window.\n",
        "4. Let context_words be the set of all other words in the context window.\n",
        "5. Let context_word be one of the words in context_words chosen at random.\n",
        "5. If using the nSG model, let example be [center_word, context_word].\n",
        "6. If using the nCBOW model, let example be [context_words, center_word].\n",
        "7. If using a kNS model, extend example to be a triple with the final entry a list of k randomly sampled words from the vocabulary.\n",
        "\n",
        "\n",
        "* The nSG models predicts context words from a center word and thus capture the idea that any given word should be predictive of nearby words.\n",
        "\n",
        "* The nCBOW models predict the center word from nearby context words and thus capture the idea that a word should be predictable based on its context.\n",
        "\n",
        "*   The kNS models are a trick to save memory over the FS models. Rather than computing a probability for every single word in the vocabulary every time we want to predict a target word (center word for CBOW and context word for SG, respectively), we just predict whether the target word is likely and whether k randomly sampled words are likely. This mimics the behavior of a full softmax prediction, which trains the model to up the probability of the target word and lower the probability of all other words. In the case of kNS, we up the probability of the target word and lower the probability of k other words.\n",
        "\n",
        "\n"
      ]
    },
    {
      "cell_type": "markdown",
      "metadata": {
        "id": "TIQLtXTE2gbq",
        "colab_type": "text"
      },
      "source": [
        "# Quiz Question 8:\n",
        "What is the last index in the SST example after numericalization?"
      ]
    },
    {
      "cell_type": "code",
      "metadata": {
        "id": "czjKOV35m1_-",
        "colab_type": "code",
        "outputId": "6f71c3c3-2c19-4b42-a9b3-91b0260cedb7",
        "colab": {
          "base_uri": "https://localhost:8080/",
          "height": 272
        }
      },
      "source": [
        "sentence_idx = random.randint(0, len(en_wiki_numericalized)-1)   \n",
        "#print(sentence_idx)\n",
        "#print(len(en_wiki_numericalized))\n",
        "sentence = en_wiki_numericalized[sentence_idx]\n",
        "#print(len(sentence))\n",
        "window_idx = random.randint(0, len(sentence)-1)\n",
        "window = sentence[window_idx:(window_idx+5)]\n",
        "print(sentence[window_idx])\n",
        "#print(window_idx)\n",
        "print(window)\n",
        "#for i in range(4):\n",
        "#  print(en_wiki_vocab.index_to_word[window[i]])\n",
        "context_words = list(window)\n",
        "center_word = list([context_words.pop(len(window)//2)])\n",
        "#center_word = window[len(window)//2]\n",
        "print(len(window))\n",
        "print(id(window))\n",
        "print(id(context_words))\n",
        "#context_words.remove(center_word)\n",
        "print(len(window))\n",
        "print(center_word)\n",
        "print([context_words,center_word])\n",
        "ex = context_words\n",
        "ex.append(center_word)\n",
        "print(type(ex))\n",
        "print(context_words)\n",
        "print(type(center_word))\n",
        "context_word = [context_words[random.randint(0, len(context_words)-1)]]\n",
        "print([center_word, context_word])\n",
        "print(type(context_word))\n",
        "#example = []\n",
        "ss = [random.randint(0, len(en_wiki_vocab.index_to_word)-1) for _ in range(15)]\n",
        "print(type(ss))\n",
        "\n",
        "print(ex + ss)"
      ],
      "execution_count": 0,
      "outputs": [
        {
          "output_type": "stream",
          "text": [
            "2110\n",
            "[2110, 8463, 64, 853, 16]\n",
            "5\n",
            "139874246640776\n",
            "139874251192712\n",
            "5\n",
            "[64]\n",
            "[[2110, 8463, 853, 16], [64]]\n",
            "<class 'list'>\n",
            "[2110, 8463, 853, 16, [64]]\n",
            "<class 'list'>\n",
            "[[64], [853]]\n",
            "<class 'list'>\n",
            "<class 'list'>\n",
            "[2110, 8463, 853, 16, [64], 4523, 65283, 64773, 51286, 33523, 61373, 58832, 33559, 34068, 71045, 2270, 24031, 57249, 36386, 13525]\n"
          ],
          "name": "stdout"
        }
      ]
    },
    {
      "cell_type": "markdown",
      "metadata": {
        "id": "1CobyyA3wUdN",
        "colab_type": "text"
      },
      "source": [
        "# Hands-on: Construct examples for each W2V variant"
      ]
    },
    {
      "cell_type": "code",
      "metadata": {
        "colab_type": "code",
        "id": "H1skVay7tK7J",
        "cellView": "code",
        "colab": {}
      },
      "source": [
        "\n",
        "def construct_examples(numericalized_sentences, vocabulary, num_examples=int(1e6), n=5, sg=True, k=0):\n",
        "  examples = []\n",
        "  while True:\n",
        "    # TODO: select a random sentence index using random.randint and get that\n",
        "    # sentence. Be careful to avoid indexing errors.\n",
        "    sentence_idx = random.randint(0, len(numericalized_sentences)-1)   \n",
        "    sentence = numericalized_sentences[sentence_idx]\n",
        "    # TODO: Select a random window index using random.randint\n",
        "    # and obtain that window of size n. Be careful to avoid indexing errors.\n",
        "    window_idx = random.randint(0, len(sentence)-1)\n",
        "    window = sentence[window_idx:window_idx+n]\n",
        "\n",
        "    \n",
        "    if len(window) <= n//2:\n",
        "      continue\n",
        "      \n",
        "    # TODO: Get the center word and the context words \n",
        "    context_words = list(window)\n",
        "    center_word = context_words.pop(len(window)//2)\n",
        "    if sg: # if \n",
        "      context_word = context_words[random.randint(0, len(context_words)-1)]\n",
        "      example = [[center_word], context_word]\n",
        "      #example.append(context_word)\n",
        "    else: # if CBOW\n",
        "      example = [context_words]\n",
        "      example.append(center_word)\n",
        "      if len(window) < n:\n",
        "        continue\n",
        "      \n",
        "    if k > 0: # if doing negative sampling\n",
        "      samples = [random.randint(0, len(vocabulary.index_to_word)-1) \n",
        "                 for _ in range(k)]\n",
        "      example.append(samples)\n",
        "      \n",
        "    examples.append(example)\n",
        "    if len(examples) >= num_examples:\n",
        "      break\n",
        "  \n",
        "  return examples"
      ],
      "execution_count": 0,
      "outputs": []
    },
    {
      "cell_type": "markdown",
      "metadata": {
        "id": "mfWTBktrqi8B",
        "colab_type": "text"
      },
      "source": [
        "In this exercise, you'll implement parts of the ```construct_examples``` method. First, grab a random sentence from your numericalized vocabulary and construct your context window of size n from a random word in that sentence. Next, pick your center and context words. Finally, create examples for the skip-gram and CBOW models."
      ]
    },
    {
      "cell_type": "code",
      "metadata": {
        "id": "YX8Zpv4PeOnu",
        "colab_type": "code",
        "outputId": "e7053a65-4b21-4d6e-dc4b-254604d6e309",
        "colab": {
          "base_uri": "https://localhost:8080/",
          "height": 85
        }
      },
      "source": [
        "\n",
        "random.seed(123)\n",
        "\n",
        "print('Constructing English Wikipedia examples for 5SG-FS model')\n",
        "en_wiki_5sgfs_examples = construct_examples(en_wiki_numericalized, en_wiki_vocab)\n",
        "print('Constructing English Wikipedia examples for 5CBOW-FS model')\n",
        "en_wiki_5cbowfs_examples = construct_examples(en_wiki_numericalized, en_wiki_vocab, sg=False)\n",
        "print('Constructing English Wikipedia examples for 5SG-15NS model')\n",
        "en_wiki_5sg15ns_examples = construct_examples(en_wiki_numericalized, en_wiki_vocab, k=15)\n",
        "print('Constructing English Wikipedia examples for 5CBOW-15NS model')\n",
        "en_wiki_5cbow15ns_examples = construct_examples(en_wiki_numericalized, en_wiki_vocab, sg=False, k=15)"
      ],
      "execution_count": 0,
      "outputs": [
        {
          "output_type": "stream",
          "text": [
            "Constructing English Wikipedia examples for 5SG-FS model\n",
            "Constructing English Wikipedia examples for 5CBOW-FS model\n",
            "Constructing English Wikipedia examples for 5SG-15NS model\n",
            "Constructing English Wikipedia examples for 5CBOW-15NS model\n"
          ],
          "name": "stdout"
        }
      ]
    },
    {
      "cell_type": "markdown",
      "metadata": {
        "id": "DcX_2BL9DF3i",
        "colab_type": "text"
      },
      "source": [
        ""
      ]
    },
    {
      "cell_type": "code",
      "metadata": {
        "id": "HBdhJrw55PPe",
        "colab_type": "code",
        "outputId": "671a51fe-e1b5-4c33-8fbc-209cbfe9a79a",
        "colab": {
          "base_uri": "https://localhost:8080/",
          "height": 85
        }
      },
      "source": [
        "# random.seed(123)\n",
        "print('Constructing Stanford Sentiment Treebank examples for 5SG-15NS model')\n",
        "sst_5sgfs_examples = construct_examples(sst_numericalized, sst_vocab)\n",
        "print('Constructing Stanford Sentiment Treebank examples for 5CBOW-15NS model')\n",
        "sst_5cbowfs_examples = construct_examples(sst_numericalized, sst_vocab, sg=False)\n",
        "print('Constructing Stanford Sentiment Treebank examples for 5SG-15NS model')\n",
        "sst_5sg15ns_examples = construct_examples(sst_numericalized, sst_vocab, k=15)\n",
        "print('Constructing Stanford Sentiment Treebank examples for 5CBOW-15NS model')\n",
        "sst_5cbow15ns_examples = construct_examples(sst_numericalized, sst_vocab, sg=False, k=15)"
      ],
      "execution_count": 0,
      "outputs": [
        {
          "output_type": "stream",
          "text": [
            "Constructing Stanford Sentiment Treebank examples for 5SG-15NS model\n",
            "Constructing Stanford Sentiment Treebank examples for 5CBOW-15NS model\n",
            "Constructing Stanford Sentiment Treebank examples for 5SG-15NS model\n",
            "Constructing Stanford Sentiment Treebank examples for 5CBOW-15NS model\n"
          ],
          "name": "stdout"
        }
      ]
    },
    {
      "cell_type": "markdown",
      "metadata": {
        "id": "t6chVy5PDV-g",
        "colab_type": "text"
      },
      "source": [
        "**USE  the next cell only when  num_examples​ is small. Otherwise it will crash**"
      ]
    },
    {
      "cell_type": "markdown",
      "metadata": {
        "id": "wJ4HJK2YEvjl",
        "colab_type": "text"
      },
      "source": [
        ""
      ]
    },
    {
      "cell_type": "code",
      "metadata": {
        "id": "wpz_TrRl-2Ze",
        "colab_type": "code",
        "outputId": "27ac09de-fa7e-4770-bcec-edcb9ed13be6",
        "colab": {
          "base_uri": "https://localhost:8080/",
          "height": 173
        }
      },
      "source": [
        "print(en_wiki_5sgfs_examples[1])\n",
        "print(en_wiki_5cbowfs_examples[1])\n",
        "print(en_wiki_5sg15ns_examples[1])\n",
        "print(en_wiki_5cbow15ns_examples[1])\n",
        "print(sst_5sgfs_examples[1])\n",
        "print(sst_5cbowfs_examples[2])\n",
        "print(sst_5sg15ns_examples[1])\n",
        "print(sst_5cbow15ns_examples[1])"
      ],
      "execution_count": 0,
      "outputs": [
        {
          "output_type": "stream",
          "text": [
            "[[1918], 1918]\n",
            "[[2743, 889, 7828, 183], 815]\n",
            "[[12570], 5214, [18669, 31842, 49242, 2615, 4400, 3751, 35429, 23222, 26546, 57992, 49827, 59321, 54399, 17022, 13815]]\n",
            "[[855, 3661, 9276, 613], 643, [33221, 3192, 47469, 58323, 8941, 32774, 63262, 8683, 11388, 24960, 44014, 56184, 29325, 8084, 42301]]\n",
            "[[735], 120]\n",
            "[[2440, 601, 592, 196], 2752]\n",
            "[[0], 955, [1962, 1044, 930, 1828, 347, 367, 839, 1091, 2279, 1010, 3217, 1414, 726, 1896, 2356]]\n",
            "[[830, 2433, 19, 2530], 1439, [1195, 2027, 1607, 2206, 1656, 1489, 2056, 2574, 1710, 1116, 1374, 1843, 2950, 1448, 611]]\n"
          ],
          "name": "stdout"
        }
      ]
    },
    {
      "cell_type": "markdown",
      "metadata": {
        "id": "ZIxZEwicFmRp",
        "colab_type": "text"
      },
      "source": [
        "# Construct minibatches for the FS models\n",
        "A minibatch consists of multiple examples grouped together as torch tensors. We want to batch the inputs and the targets so the model can process them in parallel.\n",
        "\n",
        "If we're using a full softmax, minibatching is very simple. The inputs are whatever the first entry of an example is and the targets are whatever the second entry in the example is. This should be as expected."
      ]
    },
    {
      "cell_type": "code",
      "metadata": {
        "id": "mUKAw5BRGXuf",
        "colab_type": "code",
        "colab": {}
      },
      "source": [
        "def tensorize(x, dtype=torch.long):\n",
        "  if len(x) == 0:\n",
        "    return None\n",
        "  return torch.tensor(x, dtype=dtype)\n",
        "\n",
        "def batchFS(examples, batch_size=64):\n",
        "  example_indices = random.sample(range(0, len(examples)-1), batch_size)\n",
        "  batch_examples = [examples[idx] for idx in example_indices]\n",
        "  inputs = [example[0] for example in batch_examples]\n",
        "  targets = [example[1] for example in batch_examples]\n",
        "  return [tensorize(inputs), tensorize(targets)]\n"
      ],
      "execution_count": 0,
      "outputs": []
    },
    {
      "cell_type": "code",
      "metadata": {
        "id": "uf4aoig9NyMY",
        "colab_type": "code",
        "outputId": "8addba3e-b513-4045-c0d0-5f255673a8e0",
        "colab": {
          "base_uri": "https://localhost:8080/",
          "height": 1241
        }
      },
      "source": [
        "random.seed(123)\n",
        "for x in batchFS(sst_5sgfs_examples):\n",
        "  print(x)"
      ],
      "execution_count": 0,
      "outputs": [
        {
          "output_type": "stream",
          "text": [
            "tensor([[ 1331],\n",
            "        [  504],\n",
            "        [  461],\n",
            "        [ 1620],\n",
            "        [ 1955],\n",
            "        [ 2450],\n",
            "        [  177],\n",
            "        [ 2713],\n",
            "        [ 2730],\n",
            "        [  484],\n",
            "        [ 1089],\n",
            "        [ 2277],\n",
            "        [  248],\n",
            "        [  570],\n",
            "        [  143],\n",
            "        [  637],\n",
            "        [ 2253],\n",
            "        [ 1118],\n",
            "        [ 3242],\n",
            "        [   11],\n",
            "        [  854],\n",
            "        [ 1931],\n",
            "        [ 1156],\n",
            "        [ 1987],\n",
            "        [  261],\n",
            "        [  820],\n",
            "        [  253],\n",
            "        [    1],\n",
            "        [ 3022],\n",
            "        [ 2453],\n",
            "        [   38],\n",
            "        [ 2111],\n",
            "        [  658],\n",
            "        [  527],\n",
            "        [  439],\n",
            "        [ 1710],\n",
            "        [ 2245],\n",
            "        [ 3134],\n",
            "        [  541],\n",
            "        [ 1802],\n",
            "        [  902],\n",
            "        [  382],\n",
            "        [   23],\n",
            "        [  535],\n",
            "        [  184],\n",
            "        [ 1294],\n",
            "        [  389],\n",
            "        [  583],\n",
            "        [  606],\n",
            "        [  208],\n",
            "        [ 2327],\n",
            "        [  776],\n",
            "        [ 1190],\n",
            "        [ 1320],\n",
            "        [ 2694],\n",
            "        [  963],\n",
            "        [  920],\n",
            "        [  804],\n",
            "        [  812],\n",
            "        [ 2456],\n",
            "        [ 2522],\n",
            "        [ 1649],\n",
            "        [   11],\n",
            "        [ 1042]])\n",
            "tensor([   24,  2599,  1194,    28,   119,  1239,  2938,    84,   491,\n",
            "         2679,  2255,   537,   868,    20,  1083,  1727,   648,     9,\n",
            "         1290,   849,    45,   126,  1033,  1612,   562,   140,  1204,\n",
            "          794,   307,    41,   515,   241,   208,  1730,   613,  2214,\n",
            "            2,  2645,  2826,   102,   706,   874,  1463,  1733,  1622,\n",
            "           78,  3161,  1915,  2144,   374,     8,  2007,     0,  1070,\n",
            "          296,     0,    41,   208,  1882,  1136,  2516,  2037,  2449,\n",
            "           39])\n"
          ],
          "name": "stdout"
        }
      ]
    },
    {
      "cell_type": "markdown",
      "metadata": {
        "id": "ftPBUhhBgpOL",
        "colab_type": "text"
      },
      "source": [
        "# Quiz Question 9:\n",
        "What is the last index in the last tensor printed out above for the batched examples?"
      ]
    },
    {
      "cell_type": "markdown",
      "metadata": {
        "id": "5_EFbd-zLvUN",
        "colab_type": "text"
      },
      "source": [
        "# Construct minibatches for the kNS models\n",
        "Negative sampling requires three tensors instead of two. The first tensor represents the inputs, just like before. The second is an output tensor with each row containing first the target word index and then the negative sample word indices. The third is a labels tensor representing each of the entries in the output tensor as a 1 if it is the target word and a 0 if it is a negative sample. "
      ]
    },
    {
      "cell_type": "code",
      "metadata": {
        "id": "rnCwrbaW3qYk",
        "colab_type": "code",
        "outputId": "d4d607b6-a7e2-4f81-c7b1-c221b8ecbf9b",
        "colab": {
          "base_uri": "https://localhost:8080/",
          "height": 435
        }
      },
      "source": [
        "#batch_examples = [[[2765], [1273,234,87,78], [2435, 2531, 1750, 1925, 1739, 958, 825, 2676, 1651, 2091, 2901, 2573, 2307, 350, 1034],[[2765], [1273,234,87,78], [2435, 2531, 1750, 1925, 1739, 958, 825, 2676, 1651, 2091, 2901, 2573, 2307, 350, 1034]]\n",
        "batch_examples = [[1,2,3],[4,5,6,7]]\n",
        "#example_indices = random.samplerange(0, len(en_wiki_5cbow15ns_examples)-1), 2)\n",
        "#batch_examples = [en_wiki_5cbow15ns_examples[idx] for idx in example_indices]\n",
        "inputs = [example[0] for example in batch_examples]\n",
        "targets = [example[1] for example in batch_examples]\n",
        "negatives = [example[2] for example in batch_examples]\n",
        "dx = tensorize(targets).unsqueeze(1)\n",
        "dy = tensorize(negatives)\n",
        "outputs = torch.cat([tensorize(targets).unsqueeze(1), tensorize(negatives).unsqueeze(1)], dim=1)\n",
        "labels = torch.zeros_like(outputs, dtype=torch.float)\n",
        "labels[:, 0] = 1.\n",
        "print(batch_examples)\n",
        "print(inputs)\n",
        "print(targets)\n",
        "print(negatives)\n",
        "print(labels)\n",
        "print(outputs)\n",
        "#print(dy)\n",
        "x = torch.Tensor([4,6, 2, 3]).unsqueeze(1)\n",
        "r = torch.Tensor([1, 2]).unsqueeze(1)\n",
        "print(x)\n",
        "print(r)\n",
        "#y = torch.cat((x,r), dim=1)\n",
        "\n",
        "print(y)"
      ],
      "execution_count": 0,
      "outputs": [
        {
          "output_type": "stream",
          "text": [
            "[[1, 2, 3], [4, 5, 6, 7]]\n",
            "[1, 4]\n",
            "[2, 5]\n",
            "[3, 6]\n",
            "tensor([[ 1.,  0.],\n",
            "        [ 1.,  0.]])\n",
            "tensor([[ 2,  3],\n",
            "        [ 5,  6]])\n",
            "tensor([[ 4.],\n",
            "        [ 6.],\n",
            "        [ 2.],\n",
            "        [ 3.]])\n",
            "tensor([[ 1.],\n",
            "        [ 2.]])\n"
          ],
          "name": "stdout"
        },
        {
          "output_type": "error",
          "ename": "NameError",
          "evalue": "ignored",
          "traceback": [
            "\u001b[0;31m---------------------------------------------------------------------------\u001b[0m",
            "\u001b[0;31mNameError\u001b[0m                                 Traceback (most recent call last)",
            "\u001b[0;32m<ipython-input-42-15131be67c22>\u001b[0m in \u001b[0;36m<module>\u001b[0;34m()\u001b[0m\n\u001b[1;32m     23\u001b[0m \u001b[0;31m#y = torch.cat((x,r), dim=1)\u001b[0m\u001b[0;34m\u001b[0m\u001b[0;34m\u001b[0m\u001b[0;34m\u001b[0m\u001b[0m\n\u001b[1;32m     24\u001b[0m \u001b[0;34m\u001b[0m\u001b[0m\n\u001b[0;32m---> 25\u001b[0;31m \u001b[0mprint\u001b[0m\u001b[0;34m(\u001b[0m\u001b[0my\u001b[0m\u001b[0;34m)\u001b[0m\u001b[0;34m\u001b[0m\u001b[0;34m\u001b[0m\u001b[0m\n\u001b[0m",
            "\u001b[0;31mNameError\u001b[0m: name 'y' is not defined"
          ]
        }
      ]
    },
    {
      "cell_type": "code",
      "metadata": {
        "id": "the9_niQL3U6",
        "colab_type": "code",
        "colab": {}
      },
      "source": [
        "def batchkNS(examples, batch_size=64):\n",
        "  example_indices = random.sample(range(0, len(examples)-1), batch_size)\n",
        "  batch_examples = [examples[idx] for idx in example_indices]\n",
        "  inputs = [example[0] for example in batch_examples]\n",
        "  targets = [example[1] for example in batch_examples]\n",
        "  negatives = [example[2] for example in batch_examples]\n",
        "  outputs = torch.cat([tensorize(targets).unsqueeze(1), tensorize(negatives)], dim=1)\n",
        "  labels = torch.zeros_like(outputs, dtype=torch.float)\n",
        "  labels[:, 0] = 1.\n",
        "  \n",
        "  return [tensorize(inputs), outputs, labels]"
      ],
      "execution_count": 0,
      "outputs": []
    },
    {
      "cell_type": "code",
      "metadata": {
        "id": "nupWXudyIP81",
        "colab_type": "code",
        "outputId": "d0799948-80bc-4892-d503-efbfe810c197",
        "colab": {
          "base_uri": "https://localhost:8080/",
          "height": 1343
        }
      },
      "source": [
        "random.seed(123)\n",
        "for x in batchkNS(en_wiki_5cbow15ns_examples):\n",
        "  print(x)"
      ],
      "execution_count": 0,
      "outputs": [
        {
          "output_type": "stream",
          "text": [
            "tensor([[  2293,   1280,   7338,    309],\n",
            "        [   223,   2699,    809,    982],\n",
            "        [ 22049,   1332,  22204,  58120],\n",
            "        [ 10956,   8949,   2782,    432],\n",
            "        [   766,  28414,   1868,   8894],\n",
            "        [     7,   2095,  35820,   1801],\n",
            "        [  6915,    116,    178,   8884],\n",
            "        [  4996,     10,  16329,    668],\n",
            "        [   526,  35797,  22189,  24886],\n",
            "        [    11,      5,   3430,  11658],\n",
            "        [   419,      7,    419,   1855],\n",
            "        [  1593,    584,   1998,   1890],\n",
            "        [   157,  49383,    195,    250],\n",
            "        [ 11529,   4137,   1021,   4408],\n",
            "        [  6144,   8321,   2906,    421],\n",
            "        [    20,     56,  14695,  41501],\n",
            "        [  3360,   3388,  20896,   1093],\n",
            "        [  1672,   2248,    760,    285],\n",
            "        [   438,   9526,  38504,  31897],\n",
            "        [  6229,  47492,   3947,   4643],\n",
            "        [    31,   2390,   5351,   1916],\n",
            "        [ 37656,   4758,  37656,    700],\n",
            "        [     2,    517,    563,   5022],\n",
            "        [  5546,   1491,  41625,   2020],\n",
            "        [  4833,    114,    673,   4434],\n",
            "        [    67,    413,   1149,     25],\n",
            "        [  3491,   1491,    349,  18049],\n",
            "        [  2621,   1806,   2202,    348],\n",
            "        [   312,   9415,   1276,    683],\n",
            "        [  6191,    780,   1005,     62],\n",
            "        [  1312,    368,  20889,   6456],\n",
            "        [  1244,  17854,   4691,   2225],\n",
            "        [ 16809,   1334,   1066,    436],\n",
            "        [    32,   1531,   3218,    361],\n",
            "        [ 20690,   2373,   1302,    101],\n",
            "        [  3939,  25722,   4096,   3389],\n",
            "        [ 21859,    673,   3164,  39245],\n",
            "        [   799,   2698,  14796,   1705],\n",
            "        [  7070,   1946,    182,   2233],\n",
            "        [   387,     50,   2539,   3281],\n",
            "        [    21,    214,   2444,  22863],\n",
            "        [  3424,   1112,   6197,     23],\n",
            "        [  3693,    864,   1972,    492],\n",
            "        [  3503,   1388,   1426,   1580],\n",
            "        [   662,   1841,    408,   3737],\n",
            "        [  1108,   3013,   7088,   4533],\n",
            "        [  4407,    429,      8,   5080],\n",
            "        [  9052,   2046,   1010,   1343],\n",
            "        [  4075,  43148,    411,   7483],\n",
            "        [  2228,     16,   1507,   1392],\n",
            "        [  5977,    206,  26608,    281],\n",
            "        [   804,   1010,   2735,   6644],\n",
            "        [    75,   7318,    768,  39802],\n",
            "        [  5086,    549,   1699,  29851],\n",
            "        [  5146,   1446,    894,   6206],\n",
            "        [  1556,    244,   3364,    974],\n",
            "        [   216,    270,    168,   3998],\n",
            "        [  2848,    113,     57,    830],\n",
            "        [ 20302,   4400,  27703,  25496],\n",
            "        [  1230,  11105,    315,   4832],\n",
            "        [  2658,    734,    904,  19672],\n",
            "        [ 29600,  47070,   1416,   4050],\n",
            "        [ 26957,   4338,     28,  18472],\n",
            "        [ 12474,   5468,    271,  31609]])\n",
            "tensor([[  1642,  29605,  18497,  ...,  51932,  11029,  36789],\n",
            "        [ 10260,  68458,  46805,  ...,  19354,  15942,  47756],\n",
            "        [  1861,  39200,  21154,  ...,  65838,  14911,  65572],\n",
            "        ...,\n",
            "        [  4941,  34165,  70001,  ...,  44518,  28238,   1696],\n",
            "        [   986,  17970,  44935,  ...,  60265,  17746,  12547],\n",
            "        [  1345,  32498,   5145,  ...,  65528,   2971,  49353]])\n",
            "tensor([[ 1.,  0.,  0.,  ...,  0.,  0.,  0.],\n",
            "        [ 1.,  0.,  0.,  ...,  0.,  0.,  0.],\n",
            "        [ 1.,  0.,  0.,  ...,  0.,  0.,  0.],\n",
            "        ...,\n",
            "        [ 1.,  0.,  0.,  ...,  0.,  0.,  0.],\n",
            "        [ 1.,  0.,  0.,  ...,  0.,  0.,  0.],\n",
            "        [ 1.,  0.,  0.,  ...,  0.,  0.,  0.]])\n"
          ],
          "name": "stdout"
        }
      ]
    },
    {
      "cell_type": "markdown",
      "metadata": {
        "id": "pY9Hj3E4gzTR",
        "colab_type": "text"
      },
      "source": [
        "# Quiz Question 10:\n",
        "What is the first index in the first tensor printed out above for the batched examples?"
      ]
    },
    {
      "cell_type": "markdown",
      "metadata": {
        "id": "RWI2-y2VVCJS",
        "colab_type": "text"
      },
      "source": [
        "# Construct a generic batch function\n",
        "We can now wrap our two batch construction functions in a way that's generic and adapts to the kind of examples we pass in. Later on, this flexibility will be very convenient. You can verify that as long as the random seed is the same, the batches are in fact identical to those constructed earlier."
      ]
    },
    {
      "cell_type": "code",
      "metadata": {
        "id": "cR4XjZb2VFYV",
        "colab_type": "code",
        "outputId": "e7523c29-bc46-49a5-e500-410e0b9bf246",
        "colab": {
          "base_uri": "https://localhost:8080/",
          "height": 2584
        }
      },
      "source": [
        "def batch(examples, batch_size=64):\n",
        "  assert len(examples) > 0\n",
        "  \n",
        "  if len(examples[0]) == 2:\n",
        "    return batchFS(examples, batch_size=batch_size)\n",
        "  else:\n",
        "    return batchkNS(examples, batch_size=batch_size)\n",
        " \n",
        "random.seed(123)\n",
        "for x in batch(sst_5sgfs_examples):\n",
        "  print(x)\n",
        "print()\n",
        "random.seed(123) \n",
        "for x in batch(en_wiki_5cbow15ns_examples):\n",
        "  print(x)"
      ],
      "execution_count": 0,
      "outputs": [
        {
          "output_type": "stream",
          "text": [
            "tensor([[ 1331],\n",
            "        [  504],\n",
            "        [  461],\n",
            "        [ 1620],\n",
            "        [ 1955],\n",
            "        [ 2450],\n",
            "        [  177],\n",
            "        [ 2713],\n",
            "        [ 2730],\n",
            "        [  484],\n",
            "        [ 1089],\n",
            "        [ 2277],\n",
            "        [  248],\n",
            "        [  570],\n",
            "        [  143],\n",
            "        [  637],\n",
            "        [ 2253],\n",
            "        [ 1118],\n",
            "        [ 3242],\n",
            "        [   11],\n",
            "        [  854],\n",
            "        [ 1931],\n",
            "        [ 1156],\n",
            "        [ 1987],\n",
            "        [  261],\n",
            "        [  820],\n",
            "        [  253],\n",
            "        [    1],\n",
            "        [ 3022],\n",
            "        [ 2453],\n",
            "        [   38],\n",
            "        [ 2111],\n",
            "        [  658],\n",
            "        [  527],\n",
            "        [  439],\n",
            "        [ 1710],\n",
            "        [ 2245],\n",
            "        [ 3134],\n",
            "        [  541],\n",
            "        [ 1802],\n",
            "        [  902],\n",
            "        [  382],\n",
            "        [   23],\n",
            "        [  535],\n",
            "        [  184],\n",
            "        [ 1294],\n",
            "        [  389],\n",
            "        [  583],\n",
            "        [  606],\n",
            "        [  208],\n",
            "        [ 2327],\n",
            "        [  776],\n",
            "        [ 1190],\n",
            "        [ 1320],\n",
            "        [ 2694],\n",
            "        [  963],\n",
            "        [  920],\n",
            "        [  804],\n",
            "        [  812],\n",
            "        [ 2456],\n",
            "        [ 2522],\n",
            "        [ 1649],\n",
            "        [   11],\n",
            "        [ 1042]])\n",
            "tensor([   24,  2599,  1194,    28,   119,  1239,  2938,    84,   491,\n",
            "         2679,  2255,   537,   868,    20,  1083,  1727,   648,     9,\n",
            "         1290,   849,    45,   126,  1033,  1612,   562,   140,  1204,\n",
            "          794,   307,    41,   515,   241,   208,  1730,   613,  2214,\n",
            "            2,  2645,  2826,   102,   706,   874,  1463,  1733,  1622,\n",
            "           78,  3161,  1915,  2144,   374,     8,  2007,     0,  1070,\n",
            "          296,     0,    41,   208,  1882,  1136,  2516,  2037,  2449,\n",
            "           39])\n",
            "\n",
            "tensor([[  2293,   1280,   7338,    309],\n",
            "        [   223,   2699,    809,    982],\n",
            "        [ 22049,   1332,  22204,  58120],\n",
            "        [ 10956,   8949,   2782,    432],\n",
            "        [   766,  28414,   1868,   8894],\n",
            "        [     7,   2095,  35820,   1801],\n",
            "        [  6915,    116,    178,   8884],\n",
            "        [  4996,     10,  16329,    668],\n",
            "        [   526,  35797,  22189,  24886],\n",
            "        [    11,      5,   3430,  11658],\n",
            "        [   419,      7,    419,   1855],\n",
            "        [  1593,    584,   1998,   1890],\n",
            "        [   157,  49383,    195,    250],\n",
            "        [ 11529,   4137,   1021,   4408],\n",
            "        [  6144,   8321,   2906,    421],\n",
            "        [    20,     56,  14695,  41501],\n",
            "        [  3360,   3388,  20896,   1093],\n",
            "        [  1672,   2248,    760,    285],\n",
            "        [   438,   9526,  38504,  31897],\n",
            "        [  6229,  47492,   3947,   4643],\n",
            "        [    31,   2390,   5351,   1916],\n",
            "        [ 37656,   4758,  37656,    700],\n",
            "        [     2,    517,    563,   5022],\n",
            "        [  5546,   1491,  41625,   2020],\n",
            "        [  4833,    114,    673,   4434],\n",
            "        [    67,    413,   1149,     25],\n",
            "        [  3491,   1491,    349,  18049],\n",
            "        [  2621,   1806,   2202,    348],\n",
            "        [   312,   9415,   1276,    683],\n",
            "        [  6191,    780,   1005,     62],\n",
            "        [  1312,    368,  20889,   6456],\n",
            "        [  1244,  17854,   4691,   2225],\n",
            "        [ 16809,   1334,   1066,    436],\n",
            "        [    32,   1531,   3218,    361],\n",
            "        [ 20690,   2373,   1302,    101],\n",
            "        [  3939,  25722,   4096,   3389],\n",
            "        [ 21859,    673,   3164,  39245],\n",
            "        [   799,   2698,  14796,   1705],\n",
            "        [  7070,   1946,    182,   2233],\n",
            "        [   387,     50,   2539,   3281],\n",
            "        [    21,    214,   2444,  22863],\n",
            "        [  3424,   1112,   6197,     23],\n",
            "        [  3693,    864,   1972,    492],\n",
            "        [  3503,   1388,   1426,   1580],\n",
            "        [   662,   1841,    408,   3737],\n",
            "        [  1108,   3013,   7088,   4533],\n",
            "        [  4407,    429,      8,   5080],\n",
            "        [  9052,   2046,   1010,   1343],\n",
            "        [  4075,  43148,    411,   7483],\n",
            "        [  2228,     16,   1507,   1392],\n",
            "        [  5977,    206,  26608,    281],\n",
            "        [   804,   1010,   2735,   6644],\n",
            "        [    75,   7318,    768,  39802],\n",
            "        [  5086,    549,   1699,  29851],\n",
            "        [  5146,   1446,    894,   6206],\n",
            "        [  1556,    244,   3364,    974],\n",
            "        [   216,    270,    168,   3998],\n",
            "        [  2848,    113,     57,    830],\n",
            "        [ 20302,   4400,  27703,  25496],\n",
            "        [  1230,  11105,    315,   4832],\n",
            "        [  2658,    734,    904,  19672],\n",
            "        [ 29600,  47070,   1416,   4050],\n",
            "        [ 26957,   4338,     28,  18472],\n",
            "        [ 12474,   5468,    271,  31609]])\n",
            "tensor([[  1642,  29605,  18497,  ...,  51932,  11029,  36789],\n",
            "        [ 10260,  68458,  46805,  ...,  19354,  15942,  47756],\n",
            "        [  1861,  39200,  21154,  ...,  65838,  14911,  65572],\n",
            "        ...,\n",
            "        [  4941,  34165,  70001,  ...,  44518,  28238,   1696],\n",
            "        [   986,  17970,  44935,  ...,  60265,  17746,  12547],\n",
            "        [  1345,  32498,   5145,  ...,  65528,   2971,  49353]])\n",
            "tensor([[ 1.,  0.,  0.,  ...,  0.,  0.,  0.],\n",
            "        [ 1.,  0.,  0.,  ...,  0.,  0.,  0.],\n",
            "        [ 1.,  0.,  0.,  ...,  0.,  0.,  0.],\n",
            "        ...,\n",
            "        [ 1.,  0.,  0.,  ...,  0.,  0.,  0.],\n",
            "        [ 1.,  0.,  0.,  ...,  0.,  0.,  0.],\n",
            "        [ 1.,  0.,  0.,  ...,  0.,  0.,  0.]])\n"
          ],
          "name": "stdout"
        }
      ]
    },
    {
      "cell_type": "markdown",
      "metadata": {
        "id": "KWDN2a0fOdXM",
        "colab_type": "text"
      },
      "source": [
        "# Hands-on: Define the Word2Vec models\n",
        "We'll define a single model that handles all variants of Word2Vec because there is so much overlap in how the models work. A Word2VecModel has a set of vectors that are trainable parameters. These are of some size embedding_size. The first half of these vectors is treated as input embeddings for each word, and the second half is treated as output embeddings (either for the softmax or the partial softmax used in negative sampling). These vectors are randomly initialized, but trained using one of the Word2Vec variants. Ultimately, the models return a tensor of scores with size of either the entire vocabulary (in the case of FS, scores will have size batch_size x vocabulary_size) or over the target words and their respective negative samples (in this case, scores will have size batch_size x (k +1)).\n",
        "\n",
        "The inline comments guide you through this process in detail."
      ]
    },
    {
      "cell_type": "code",
      "metadata": {
        "id": "32ZuAngstSWA",
        "colab_type": "code",
        "outputId": "c675411d-dd22-4348-d83e-015475629881",
        "colab": {
          "base_uri": "https://localhost:8080/",
          "height": 119
        }
      },
      "source": [
        "vec = nn.Parameter(torch.randn(30))\n",
        "print(vec)"
      ],
      "execution_count": 0,
      "outputs": [
        {
          "output_type": "stream",
          "text": [
            "Parameter containing:\n",
            "tensor([-1.5205, -1.1683,  1.3898, -0.0192, -0.7163, -1.3071,  0.0507,\n",
            "        -0.4991, -0.3405, -1.3760,  1.4353, -0.8220,  0.9990, -1.1907,\n",
            "        -0.5474,  0.9044,  0.2522, -1.1754,  0.0408, -0.1454,  0.2937,\n",
            "         0.2052, -0.6712, -0.4653, -1.4452, -0.7696, -0.4504, -1.5837,\n",
            "         1.2553,  1.0233])\n"
          ],
          "name": "stdout"
        }
      ]
    },
    {
      "cell_type": "code",
      "metadata": {
        "id": "tkMwhZxlOgFa",
        "colab_type": "code",
        "colab": {}
      },
      "source": [
        "class Word2VecModel(nn.Module):\n",
        "  \n",
        "  def __init__(self, vocab_size, embedding_size=300):\n",
        "    super().__init__()\n",
        "    self.vocab_size = vocab_size\n",
        "    self.embedding_size = embedding_size\n",
        "    # TODO: Use randn to initialize a tensor for vocab_size vectors each\n",
        "    # of size embedding_size\n",
        "    vectors = torch.randn(embedding_size)\n",
        "    self.vectors = nn.Parameter(vectors)\n",
        "    \n",
        "  def forward(self, batch, samples=None):\n",
        "    inputs = batch[0]\n",
        "    # TODO: Obtain the input vector portion (the first self.embedding_size//2\n",
        "    # entries of the input vectors) of self.vectors for inputs\n",
        "    input_vectors = \n",
        "    \n",
        "    # TODO: If this is a CBOW model, \n",
        "    # compute a continous bag-of-words over the input vectors\n",
        "    if input_vectors.dim() == 3:\n",
        "      input_vectors = \n",
        "\n",
        "    if len(batch) == 2: # Full Softmax\n",
        "      # TODO: obtain the output portion of all vectors \n",
        "      # HINT: you can index into the last dimension of tensors with any number \n",
        "      # of dimensions by using the following notation tensor[..., idx]\n",
        "      target_vectors = \n",
        "      # TODO: compute scores between input and output vectors\n",
        "      # via matrix multiplication (you'll need to transpose output_vectors)\n",
        "      scores = \n",
        "    else: # Negative Sampling\n",
        "      outputs = batch[1]\n",
        "      # TODO: obtain the output vectors only for samples\n",
        "      output_vectors = \n",
        "      # TODO: compute scores between the input vectors and the output vectors\n",
        "      # First, you'll need to expand the input vectors along dimension 1 using \n",
        "      # unsqueeze() so that the input vectors are now of shape (batch_size, 1, embedding_size)\n",
        "      input_vectors = \n",
        "      # Then you'll need to transpose the output_vectors along dimensions 1 and 2\n",
        "      # so that the output_vectors is of shape (batch_size, embedding_size, k + 1)\n",
        "      output_vectors = \n",
        "      # Now a matrix multiply should yield a tensor of size (batch_size, 1, k + 1)\n",
        "      # and you can get the matrix of scores by calling squeeze() to get a tensor\n",
        "      # of size (batch_size, k + 1), which should match the size of labels\n",
        "      scores = \n",
        "    return scores"
      ],
      "execution_count": 0,
      "outputs": []
    },
    {
      "cell_type": "markdown",
      "metadata": {
        "id": "YWE1B9BCUY9W",
        "colab_type": "text"
      },
      "source": [
        "# Training Word2Vec\n",
        "Now we need to define a training loop that trains our models for some number of iterations. The inline comments walk you through this process."
      ]
    },
    {
      "cell_type": "code",
      "metadata": {
        "id": "SGQhjZoMUhmP",
        "colab_type": "code",
        "colab": {}
      },
      "source": [
        "def get_trainable_parameters(model):\n",
        "  \"\"\"Returns the trainable parameters of a model\"\"\"\n",
        "  return list(filter(lambda p: p.requires_grad, model.parameters()))\n",
        "\n",
        "def denumericalize(vocab, x):\n",
        "  return [vocab.index_to_word[y] for y in x]\n",
        "\n",
        "\n",
        "def train(model, vocab, dataset, device, max_iterations=int(1e6), log_every=1e4,\n",
        "          val_every=1e5, num_val_samples=50, val_head=500, num_neighbors=5,\n",
        "          anneal_every=int(1e8), batch_size=256):\n",
        "  \"\"\"Trains a Word2VecModel on a Word2VecDataset for max_iterations (int)\"\"\"\n",
        "  print('Training on ', len(dataset), ' examples for '\n",
        "        , max_iterations, ' iterations with ', len(vocab.index_to_word), ' words in the vocabulary.')\n",
        "  model.to(device)\n",
        "  model.train()\n",
        "  # TODO: initialize a default Adam optimizer\n",
        "  # hint: use get_trainable_parameters\n",
        "  opt =  \n",
        "  avg_loss = 0\n",
        "  for iteration in range(max_iterations):\n",
        "    # TODO: zero out the gradients the optimizer is tracking\n",
        "    \n",
        "    # TODO: get the next batch from the dataset\n",
        "    b = \n",
        "    b = [x.to(device) for x in b]\n",
        "    # TODO: get scores from the model\n",
        "    scores = \n",
        "\n",
        "    if len(b) == 2: # Full Softmax\n",
        "      targets = b[1]\n",
        "      # TODO: use scores and targets to compute a cross entropy loss\n",
        "      loss = \n",
        "    else:\n",
        "      labels = b[2]\n",
        "      # TODO: use the scores and labels to compute the loss using\n",
        "      # a binary cross entropy with logits loss function\n",
        "      loss = \n",
        "    \n",
        "    # TODO: compute gradients using the loss\n",
        "\n",
        "    # TODO: update your parameters by using the optimizer to take a step\n",
        "    \n",
        "    \n",
        "    # Annealing the learning rate\n",
        "    if (iteration + 1) % anneal_every == 0:\n",
        "      print('Annealing')\n",
        "      opt.param_groups[0]['lr'] *= 0.5\n",
        "      \n",
        "    # logging  \n",
        "    avg_loss += loss.item()\n",
        "    if (iteration + 1) % log_every == 0:\n",
        "      print(f'Iteration: {iteration + 1}, avg_loss: {avg_loss / log_every}')\n",
        "      avg_loss = 0\n",
        "      \n",
        "    # validating by checking nearest neighbors\n",
        "    if (iteration + 1) % val_every == 0:\n",
        "      model.eval()\n",
        "      print('\\nValidating:\\n')\n",
        "      normalized_vectors = F.normalize(model.vectors)\n",
        "      random_samples = random.sample(range(int(val_head)), num_val_samples)\n",
        "      valid_scores = torch.matmul(normalized_vectors[random_samples], normalized_vectors.transpose(0, 1))\n",
        "      nearest_neighbors = valid_scores.detach().cpu().numpy().argsort(axis=1)[:, -(num_neighbors+1):-1]\n",
        "      for i, row in enumerate(nearest_neighbors):\n",
        "        key_word = denumericalize(vocab, [random_samples[i]])\n",
        "        neighbors = denumericalize(vocab, row.tolist())\n",
        "        neighbors.reverse()\n",
        "        print(f'word: {key_word} --', f'neighbors: {neighbors}') \n",
        "      print()"
      ],
      "execution_count": 0,
      "outputs": []
    },
    {
      "cell_type": "markdown",
      "metadata": {
        "id": "J7E1B8SSZRJe",
        "colab_type": "text"
      },
      "source": [
        "# Train Skip-Gram models\n",
        "\n",
        "Below are some examples of how to use the code we've written to train word vectors. Often it takes much more data and a large number of iterations in order to get high quality word vectors, but you can see some reasonable patterns developing using the examples below. Notice that the word vectors from English Wikipedia might give more intuitive neighbors than those from SST because Wikipedia is a much larger dataset and less domain specific."
      ]
    },
    {
      "cell_type": "markdown",
      "metadata": {
        "id": "sV_0UO6ix-zu",
        "colab_type": "text"
      },
      "source": [
        "## Note: Enable GPU\n",
        "Training models takes a long time. You can speed it up by going to **Edit > Notebook Settings** and changing the hardware accelerator to **GPU**. Leave this setting for the remainder of the exercise to speed up the code runs."
      ]
    },
    {
      "cell_type": "markdown",
      "metadata": {
        "id": "cgyzkRbEZl-Z",
        "colab_type": "text"
      },
      "source": [
        "# Full softmax"
      ]
    },
    {
      "cell_type": "markdown",
      "metadata": {
        "id": "ZI3bVfPj1NkV",
        "colab_type": "text"
      },
      "source": [
        "Run the code below to train word vectors with full softmax for our SST dataset."
      ]
    },
    {
      "cell_type": "markdown",
      "metadata": {
        "id": "arxNPhdcZqZQ",
        "colab_type": "text"
      },
      "source": [
        "#### Stanford Sentiment Treebank"
      ]
    },
    {
      "cell_type": "code",
      "metadata": {
        "id": "M2bN5LzjEHyo",
        "colab_type": "code",
        "colab": {}
      },
      "source": [
        "torch.backends.cudnn.deterministic = True\n",
        "torch.manual_seed(123)\n",
        "random.seed(123)\n",
        "device = torch.device(\"cuda:0\")\n",
        "\n",
        "vocab_size = len(sst_vocab.index_to_word)\n",
        "start_time = time.time()\n",
        "train(Word2VecModel(vocab_size=vocab_size), sst_vocab, sst_5sgfs_examples, device)\n",
        "print('Time Elapsed: ', time.time() - start_time)"
      ],
      "execution_count": 0,
      "outputs": []
    },
    {
      "cell_type": "markdown",
      "metadata": {
        "id": "IsltpVZawEqg",
        "colab_type": "text"
      },
      "source": [
        "# Quiz Question 11:\n",
        "What is the the fifth nearest neighbor (the one all the way to the right) for 'suspense'?"
      ]
    },
    {
      "cell_type": "markdown",
      "metadata": {
        "id": "EnirHEM_wKFv",
        "colab_type": "text"
      },
      "source": [
        "# Quiz Question 12:\n",
        "What is the the  nearest neighbor (the one all the way to the left) for 'death'?"
      ]
    },
    {
      "cell_type": "markdown",
      "metadata": {
        "id": "rdGr77mhiCTR",
        "colab_type": "text"
      },
      "source": [
        "#### English Wikipedia"
      ]
    },
    {
      "cell_type": "code",
      "metadata": {
        "id": "zCvjqE6miD-5",
        "colab_type": "code",
        "colab": {}
      },
      "source": [
        "torch.backends.cudnn.deterministic = True\n",
        "torch.manual_seed(123)\n",
        "random.seed(123)\n",
        "device = torch.device(\"cuda:0\")\n",
        "\n",
        "vocab_size = len(en_wiki_vocab.index_to_word)\n",
        "start_time = time.time()\n",
        "train(Word2VecModel(vocab_size=vocab_size), en_wiki_vocab, en_wiki_5sgfs_examples, device, log_every=1000, val_every=10000, max_iterations=100000)\n",
        "print('Time Elapsed: ', time.time() - start_time)"
      ],
      "execution_count": 0,
      "outputs": []
    },
    {
      "cell_type": "markdown",
      "metadata": {
        "id": "7qqhkZGwwOkA",
        "colab_type": "text"
      },
      "source": [
        "# Quiz Question 13:\n",
        "What are the nearest neighbors for 'minister'?"
      ]
    },
    {
      "cell_type": "markdown",
      "metadata": {
        "colab_type": "text",
        "id": "xiWDVXGPzKV9"
      },
      "source": [
        "# Train CBOW models\n",
        "\n",
        "There won't be quiz questions on these models as they're a bit less reliable than the full softmax, skip-gram models, but we encourage you to play around with them!"
      ]
    },
    {
      "cell_type": "markdown",
      "metadata": {
        "colab_type": "text",
        "id": "xzj4XcUPzKV-"
      },
      "source": [
        "### Full Softmax"
      ]
    },
    {
      "cell_type": "markdown",
      "metadata": {
        "colab_type": "text",
        "id": "Kn9kPsJgzKV-"
      },
      "source": [
        "#### Stanford Sentiment Treebank"
      ]
    },
    {
      "cell_type": "code",
      "metadata": {
        "colab_type": "code",
        "id": "6CsNVIKezKWA",
        "colab": {}
      },
      "source": [
        "torch.backends.cudnn.deterministic = True\n",
        "torch.manual_seed(123)\n",
        "random.seed(123)\n",
        "device = torch.device(\"cuda:0\")\n",
        "\n",
        "vocab_size = len(sst_vocab.index_to_word)\n",
        "start_time = time.time()\n",
        "train(Word2VecModel(vocab_size=vocab_size), sst_vocab, sst_5cbowfs_examples, device)\n",
        "print('Time Elapsed: ', time.time() - start_time)"
      ],
      "execution_count": 0,
      "outputs": []
    },
    {
      "cell_type": "markdown",
      "metadata": {
        "colab_type": "text",
        "id": "eCAgu5YizKWB"
      },
      "source": [
        "### Negative Sampling"
      ]
    },
    {
      "cell_type": "markdown",
      "metadata": {
        "colab_type": "text",
        "id": "yo6yI9m2zKWC"
      },
      "source": [
        "#### English Wikipedia"
      ]
    },
    {
      "cell_type": "code",
      "metadata": {
        "colab_type": "code",
        "id": "GWvJn7T3zKWC",
        "colab": {}
      },
      "source": [
        "torch.backends.cudnn.deterministic = True\n",
        "torch.manual_seed(123)\n",
        "random.seed(123)\n",
        "device = torch.device(\"cuda:0\")\n",
        "\n",
        "vocab_size = len(en_wiki_vocab.index_to_word)\n",
        "start_time = time.time()\n",
        "train(Word2VecModel(vocab_size=vocab_size), en_wiki_vocab, en_wiki_5cbow15ns_examples, device, log_every=1000,  val_every=10000, max_iterations=100000)\n",
        "print('Time Elapsed: ', time.time() - start_time)"
      ],
      "execution_count": 0,
      "outputs": []
    }
  ]
}